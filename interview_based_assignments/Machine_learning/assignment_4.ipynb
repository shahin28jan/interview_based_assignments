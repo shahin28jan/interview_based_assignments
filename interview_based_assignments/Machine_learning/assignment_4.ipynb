{
 "cells": [
  {
   "attachments": {},
   "cell_type": "markdown",
   "metadata": {},
   "source": [
    "Q-4. Imagine you working as a sale manager now you need to predict the Revenue\n",
    "and whether that particular revenue is on the weekend or not and find the\n",
    "Informational_Duration using the Ensemble learning algorithm"
   ]
  },
  {
   "cell_type": "code",
   "execution_count": 3,
   "metadata": {},
   "outputs": [],
   "source": [
    "import pandas as pd"
   ]
  },
  {
   "cell_type": "code",
   "execution_count": 4,
   "metadata": {},
   "outputs": [
    {
     "data": {
      "text/html": [
       "<div>\n",
       "<style scoped>\n",
       "    .dataframe tbody tr th:only-of-type {\n",
       "        vertical-align: middle;\n",
       "    }\n",
       "\n",
       "    .dataframe tbody tr th {\n",
       "        vertical-align: top;\n",
       "    }\n",
       "\n",
       "    .dataframe thead th {\n",
       "        text-align: right;\n",
       "    }\n",
       "</style>\n",
       "<table border=\"1\" class=\"dataframe\">\n",
       "  <thead>\n",
       "    <tr style=\"text-align: right;\">\n",
       "      <th></th>\n",
       "      <th>Administrative</th>\n",
       "      <th>Administrative_Duration</th>\n",
       "      <th>Informational</th>\n",
       "      <th>Informational_Duration</th>\n",
       "      <th>ProductRelated</th>\n",
       "      <th>ProductRelated_Duration</th>\n",
       "      <th>BounceRates</th>\n",
       "      <th>ExitRates</th>\n",
       "      <th>PageValues</th>\n",
       "      <th>SpecialDay</th>\n",
       "      <th>Month</th>\n",
       "      <th>OperatingSystems</th>\n",
       "      <th>Browser</th>\n",
       "      <th>Region</th>\n",
       "      <th>TrafficType</th>\n",
       "      <th>VisitorType</th>\n",
       "      <th>Weekend</th>\n",
       "      <th>Revenue</th>\n",
       "    </tr>\n",
       "  </thead>\n",
       "  <tbody>\n",
       "    <tr>\n",
       "      <th>0</th>\n",
       "      <td>0</td>\n",
       "      <td>0.0</td>\n",
       "      <td>0</td>\n",
       "      <td>0.0</td>\n",
       "      <td>1</td>\n",
       "      <td>0.000000</td>\n",
       "      <td>0.20</td>\n",
       "      <td>0.20</td>\n",
       "      <td>0.0</td>\n",
       "      <td>0.0</td>\n",
       "      <td>Feb</td>\n",
       "      <td>1</td>\n",
       "      <td>1</td>\n",
       "      <td>1</td>\n",
       "      <td>1</td>\n",
       "      <td>Returning_Visitor</td>\n",
       "      <td>False</td>\n",
       "      <td>False</td>\n",
       "    </tr>\n",
       "    <tr>\n",
       "      <th>1</th>\n",
       "      <td>0</td>\n",
       "      <td>0.0</td>\n",
       "      <td>0</td>\n",
       "      <td>0.0</td>\n",
       "      <td>2</td>\n",
       "      <td>64.000000</td>\n",
       "      <td>0.00</td>\n",
       "      <td>0.10</td>\n",
       "      <td>0.0</td>\n",
       "      <td>0.0</td>\n",
       "      <td>Feb</td>\n",
       "      <td>2</td>\n",
       "      <td>2</td>\n",
       "      <td>1</td>\n",
       "      <td>2</td>\n",
       "      <td>Returning_Visitor</td>\n",
       "      <td>False</td>\n",
       "      <td>False</td>\n",
       "    </tr>\n",
       "    <tr>\n",
       "      <th>2</th>\n",
       "      <td>0</td>\n",
       "      <td>0.0</td>\n",
       "      <td>0</td>\n",
       "      <td>0.0</td>\n",
       "      <td>1</td>\n",
       "      <td>0.000000</td>\n",
       "      <td>0.20</td>\n",
       "      <td>0.20</td>\n",
       "      <td>0.0</td>\n",
       "      <td>0.0</td>\n",
       "      <td>Feb</td>\n",
       "      <td>4</td>\n",
       "      <td>1</td>\n",
       "      <td>9</td>\n",
       "      <td>3</td>\n",
       "      <td>Returning_Visitor</td>\n",
       "      <td>False</td>\n",
       "      <td>False</td>\n",
       "    </tr>\n",
       "    <tr>\n",
       "      <th>3</th>\n",
       "      <td>0</td>\n",
       "      <td>0.0</td>\n",
       "      <td>0</td>\n",
       "      <td>0.0</td>\n",
       "      <td>2</td>\n",
       "      <td>2.666667</td>\n",
       "      <td>0.05</td>\n",
       "      <td>0.14</td>\n",
       "      <td>0.0</td>\n",
       "      <td>0.0</td>\n",
       "      <td>Feb</td>\n",
       "      <td>3</td>\n",
       "      <td>2</td>\n",
       "      <td>2</td>\n",
       "      <td>4</td>\n",
       "      <td>Returning_Visitor</td>\n",
       "      <td>False</td>\n",
       "      <td>False</td>\n",
       "    </tr>\n",
       "    <tr>\n",
       "      <th>4</th>\n",
       "      <td>0</td>\n",
       "      <td>0.0</td>\n",
       "      <td>0</td>\n",
       "      <td>0.0</td>\n",
       "      <td>10</td>\n",
       "      <td>627.500000</td>\n",
       "      <td>0.02</td>\n",
       "      <td>0.05</td>\n",
       "      <td>0.0</td>\n",
       "      <td>0.0</td>\n",
       "      <td>Feb</td>\n",
       "      <td>3</td>\n",
       "      <td>3</td>\n",
       "      <td>1</td>\n",
       "      <td>4</td>\n",
       "      <td>Returning_Visitor</td>\n",
       "      <td>True</td>\n",
       "      <td>False</td>\n",
       "    </tr>\n",
       "  </tbody>\n",
       "</table>\n",
       "</div>"
      ],
      "text/plain": [
       "   Administrative  Administrative_Duration  Informational   \n",
       "0               0                      0.0              0  \\\n",
       "1               0                      0.0              0   \n",
       "2               0                      0.0              0   \n",
       "3               0                      0.0              0   \n",
       "4               0                      0.0              0   \n",
       "\n",
       "   Informational_Duration  ProductRelated  ProductRelated_Duration   \n",
       "0                     0.0               1                 0.000000  \\\n",
       "1                     0.0               2                64.000000   \n",
       "2                     0.0               1                 0.000000   \n",
       "3                     0.0               2                 2.666667   \n",
       "4                     0.0              10               627.500000   \n",
       "\n",
       "   BounceRates  ExitRates  PageValues  SpecialDay Month  OperatingSystems   \n",
       "0         0.20       0.20         0.0         0.0   Feb                 1  \\\n",
       "1         0.00       0.10         0.0         0.0   Feb                 2   \n",
       "2         0.20       0.20         0.0         0.0   Feb                 4   \n",
       "3         0.05       0.14         0.0         0.0   Feb                 3   \n",
       "4         0.02       0.05         0.0         0.0   Feb                 3   \n",
       "\n",
       "   Browser  Region  TrafficType        VisitorType  Weekend  Revenue  \n",
       "0        1       1            1  Returning_Visitor    False    False  \n",
       "1        2       1            2  Returning_Visitor    False    False  \n",
       "2        1       9            3  Returning_Visitor    False    False  \n",
       "3        2       2            4  Returning_Visitor    False    False  \n",
       "4        3       1            4  Returning_Visitor     True    False  "
      ]
     },
     "execution_count": 4,
     "metadata": {},
     "output_type": "execute_result"
    }
   ],
   "source": [
    "df = pd.read_csv(\"data\\online_shoppers_intention.csv\")\n",
    "df.head()"
   ]
  },
  {
   "cell_type": "code",
   "execution_count": 5,
   "metadata": {},
   "outputs": [
    {
     "name": "stdout",
     "output_type": "stream",
     "text": [
      "[ 0  1  2  4 12  3 10  6  5  9  8 16 13 11  7 18 14 17 19 15 24 22 21 20\n",
      " 23 27 26]\n",
      "[  0.         53.         64.6       ... 167.9107143 305.125\n",
      " 150.3571429]\n",
      "[ 0  1  2  4 16  5  3 14  6 12  7  9 10  8 11 24 13]\n",
      "[  0.   120.    16.   ... 547.75 368.25 211.25]\n",
      "[  1   2  10  19   0   3  16   7   6  23  13  20   8   5  32   4  45  14\n",
      "  52   9  46  15  22  11  12  36  42  27  90  18  38  17 128  25  30  21\n",
      "  51  26  28  31  24  50  96  49  68  98  67  55  35  37  29  34  71  63\n",
      "  87  40  33  54  64  75  39 111  81  61  47  44  88 149  41  79  66  43\n",
      " 258  80  62  83 173  48  58  57  56  69  82  59 109 287  53  84  78 137\n",
      " 113  89  65  60 104 129  77  74  93  76  72 194 140 110 132 115  73 328\n",
      " 160  86 150  95 130 151 117 124 127 125 116 105  92 157 154 220 187 112\n",
      " 131 159  94 204 142 206 102 313 145  85  97 198 181 126 106 101 108 119\n",
      "  70 122  91 276 100 291 114 172 217 141 133 156 136 180 135 195  99 362\n",
      " 179 118 175 148 440 103 178 184 705 134 176 146 189 120 193 222 121 107\n",
      " 305 199 439 223 230 280 377 310 158 486 153 139 182 221 229 216 170 202\n",
      " 346 274 240 162 123 211 227 168 161 429 686 167 518 256 255 358 213 191\n",
      " 282 155 138 246 237 271 171 414 219 262 409 243 241 197 449 143 188 391\n",
      " 238 152 165 293 174 584 164 311 340 250 200 385 292 232 251 517 225 169\n",
      " 309 235 501 224 275 318 144 397 343 245 186 337 351 166 349 423 359 163\n",
      " 147 264 312 226 324 266 260 338 272 534 470 207 218 326 190 304 205 233\n",
      " 401 177 330 286 247 357 315 231 339 283 374 248 279 281 234 261 290 336\n",
      " 378 254 183 210 192]\n",
      "[  0.          64.           2.66666667 ... 465.75       184.25\n",
      " 346.        ]\n",
      "[0.2        0.         0.05       ... 0.00382775 0.00086956 0.01114899]\n",
      "[0.2        0.1        0.14       ... 0.01276133 0.01395349 0.02903061]\n",
      "[ 0.         54.17976426 19.44707913 ... 78.81172527  3.68540082\n",
      " 12.24171745]\n",
      "[0.  0.4 0.8 1.  0.2 0.6]\n",
      "['Feb' 'Mar' 'May' 'Oct' 'June' 'Jul' 'Aug' 'Nov' 'Sep' 'Dec']\n",
      "[1 2 4 3 7 6 8 5]\n",
      "[ 1  2  3  4  5  6  7 10  8  9 12 13 11]\n",
      "[1 9 2 3 4 5 6 7 8]\n",
      "[ 1  2  3  4  5  6  7  8  9 10 11 12 13 14 15 18 19 16 17 20]\n",
      "['Returning_Visitor' 'New_Visitor' 'Other']\n",
      "[False  True]\n",
      "[False  True]\n"
     ]
    }
   ],
   "source": [
    "for i in df:\n",
    "    print(df[i].unique())"
   ]
  },
  {
   "cell_type": "code",
   "execution_count": 6,
   "metadata": {},
   "outputs": [
    {
     "data": {
      "text/plain": [
       "Administrative             0\n",
       "Administrative_Duration    0\n",
       "Informational              0\n",
       "Informational_Duration     0\n",
       "ProductRelated             0\n",
       "ProductRelated_Duration    0\n",
       "BounceRates                0\n",
       "ExitRates                  0\n",
       "PageValues                 0\n",
       "SpecialDay                 0\n",
       "Month                      0\n",
       "OperatingSystems           0\n",
       "Browser                    0\n",
       "Region                     0\n",
       "TrafficType                0\n",
       "VisitorType                0\n",
       "Weekend                    0\n",
       "Revenue                    0\n",
       "dtype: int64"
      ]
     },
     "execution_count": 6,
     "metadata": {},
     "output_type": "execute_result"
    }
   ],
   "source": [
    "df.isnull().sum()"
   ]
  },
  {
   "cell_type": "code",
   "execution_count": 7,
   "metadata": {},
   "outputs": [],
   "source": [
    "df['Weekend']=df['Weekend'].replace({\"True\":1,\"False\":2})\n",
    "df['Revenue']=df['Revenue'].replace({\"True\":1,\"False\":2})"
   ]
  },
  {
   "cell_type": "code",
   "execution_count": 8,
   "metadata": {},
   "outputs": [],
   "source": [
    "## Independent and dependent feature\n",
    "X = df.drop(labels=['Weekend', 'Revenue'],axis=1)\n",
    "Y = df[['Weekend', 'Revenue']]"
   ]
  },
  {
   "cell_type": "code",
   "execution_count": 9,
   "metadata": {},
   "outputs": [
    {
     "name": "stdout",
     "output_type": "stream",
     "text": [
      "numerical_columns:  Index(['Administrative', 'Administrative_Duration', 'Informational',\n",
      "       'Informational_Duration', 'ProductRelated', 'ProductRelated_Duration',\n",
      "       'BounceRates', 'ExitRates', 'PageValues', 'SpecialDay',\n",
      "       'OperatingSystems', 'Browser', 'Region', 'TrafficType'],\n",
      "      dtype='object')\n",
      "categorical columns:  Index(['Month', 'VisitorType'], dtype='object')\n"
     ]
    }
   ],
   "source": [
    "# Define which columns should be ordinal-encoded and which should be scale\n",
    "categorical_cols = X.select_dtypes(include='object') .columns\n",
    "numerical_cols = X.select_dtypes(exclude='object').columns\n",
    "print(\"numerical_columns: \",numerical_cols)\n",
    "print(\"categorical columns: \",categorical_cols)"
   ]
  },
  {
   "cell_type": "code",
   "execution_count": 10,
   "metadata": {},
   "outputs": [],
   "source": [
    "Month = ['Feb', 'Mar', 'May', 'Oct', 'June', 'Jul', 'Aug', 'Nov', 'Sep', 'Dec']\n",
    "VisitorType = ['Returning_Visitor', 'New_Visitor', 'Other']"
   ]
  },
  {
   "cell_type": "code",
   "execution_count": 11,
   "metadata": {},
   "outputs": [],
   "source": [
    "from sklearn.impute import SimpleImputer  # Handling missing values\n",
    "from sklearn.preprocessing import StandardScaler  # Handling feature  scaling\n",
    "from sklearn.preprocessing import OrdinalEncoder  # ordinal encodind\n",
    "## Pipelines A\n",
    "from sklearn.pipeline import Pipeline\n",
    "from sklearn.compose import ColumnTransformer"
   ]
  },
  {
   "cell_type": "code",
   "execution_count": 12,
   "metadata": {},
   "outputs": [],
   "source": [
    "## Numerical Pipeline\n",
    "num_pipeline=Pipeline(\n",
    "    steps=[\n",
    "    ('imputer',SimpleImputer(strategy='median')),\n",
    "    ('scaler',StandardScaler())\n",
    "\n",
    "    ]\n",
    "\n",
    ")\n",
    "\n",
    "# Categorigal Pipeline\n",
    "cat_pipeline=Pipeline(\n",
    "    steps=[\n",
    "    ('imputer',SimpleImputer(strategy='most_frequent')),\n",
    "    ('ordinalencoder',OrdinalEncoder(categories=[Month, VisitorType])),\n",
    "    ('scaler',StandardScaler())\n",
    "    ]\n",
    "\n",
    ")\n",
    "\n",
    "preprocessor=ColumnTransformer([\n",
    "('num_pipeline',num_pipeline,numerical_cols),\n",
    "('cat_pipeline',cat_pipeline,categorical_cols)\n",
    "])\n"
   ]
  },
  {
   "cell_type": "code",
   "execution_count": 13,
   "metadata": {},
   "outputs": [
    {
     "data": {
      "text/html": [
       "<div>\n",
       "<style scoped>\n",
       "    .dataframe tbody tr th:only-of-type {\n",
       "        vertical-align: middle;\n",
       "    }\n",
       "\n",
       "    .dataframe tbody tr th {\n",
       "        vertical-align: top;\n",
       "    }\n",
       "\n",
       "    .dataframe thead th {\n",
       "        text-align: right;\n",
       "    }\n",
       "</style>\n",
       "<table border=\"1\" class=\"dataframe\">\n",
       "  <thead>\n",
       "    <tr style=\"text-align: right;\">\n",
       "      <th></th>\n",
       "      <th>num_pipeline__Administrative</th>\n",
       "      <th>num_pipeline__Administrative_Duration</th>\n",
       "      <th>num_pipeline__Informational</th>\n",
       "      <th>num_pipeline__Informational_Duration</th>\n",
       "      <th>num_pipeline__ProductRelated</th>\n",
       "      <th>num_pipeline__ProductRelated_Duration</th>\n",
       "      <th>num_pipeline__BounceRates</th>\n",
       "      <th>num_pipeline__ExitRates</th>\n",
       "      <th>num_pipeline__PageValues</th>\n",
       "      <th>num_pipeline__SpecialDay</th>\n",
       "      <th>num_pipeline__OperatingSystems</th>\n",
       "      <th>num_pipeline__Browser</th>\n",
       "      <th>num_pipeline__Region</th>\n",
       "      <th>num_pipeline__TrafficType</th>\n",
       "      <th>cat_pipeline__Month</th>\n",
       "      <th>cat_pipeline__VisitorType</th>\n",
       "    </tr>\n",
       "  </thead>\n",
       "  <tbody>\n",
       "    <tr>\n",
       "      <th>0</th>\n",
       "      <td>-0.106058</td>\n",
       "      <td>-0.261498</td>\n",
       "      <td>-0.402052</td>\n",
       "      <td>-0.247368</td>\n",
       "      <td>0.347404</td>\n",
       "      <td>0.509942</td>\n",
       "      <td>-0.368702</td>\n",
       "      <td>-0.668044</td>\n",
       "      <td>0.443746</td>\n",
       "      <td>-0.311321</td>\n",
       "      <td>-1.229755</td>\n",
       "      <td>-0.797484</td>\n",
       "      <td>-0.480577</td>\n",
       "      <td>-0.771281</td>\n",
       "      <td>-1.202107</td>\n",
       "      <td>-0.406125</td>\n",
       "    </tr>\n",
       "    <tr>\n",
       "      <th>1</th>\n",
       "      <td>-0.699308</td>\n",
       "      <td>-0.460866</td>\n",
       "      <td>-0.402052</td>\n",
       "      <td>-0.247368</td>\n",
       "      <td>-0.018118</td>\n",
       "      <td>0.059641</td>\n",
       "      <td>-0.455130</td>\n",
       "      <td>-0.511432</td>\n",
       "      <td>-0.318528</td>\n",
       "      <td>-0.311321</td>\n",
       "      <td>-0.136766</td>\n",
       "      <td>-0.797484</td>\n",
       "      <td>-0.897992</td>\n",
       "      <td>-0.521340</td>\n",
       "      <td>0.812531</td>\n",
       "      <td>-0.406125</td>\n",
       "    </tr>\n",
       "    <tr>\n",
       "      <th>2</th>\n",
       "      <td>2.563569</td>\n",
       "      <td>1.189918</td>\n",
       "      <td>2.880151</td>\n",
       "      <td>0.760872</td>\n",
       "      <td>8.343187</td>\n",
       "      <td>6.012016</td>\n",
       "      <td>-0.310768</td>\n",
       "      <td>-0.680676</td>\n",
       "      <td>0.161616</td>\n",
       "      <td>-0.311321</td>\n",
       "      <td>-1.229755</td>\n",
       "      <td>-0.797484</td>\n",
       "      <td>-0.063161</td>\n",
       "      <td>-0.271399</td>\n",
       "      <td>0.812531</td>\n",
       "      <td>-0.406125</td>\n",
       "    </tr>\n",
       "    <tr>\n",
       "      <th>3</th>\n",
       "      <td>-0.699308</td>\n",
       "      <td>-0.460866</td>\n",
       "      <td>-0.402052</td>\n",
       "      <td>-0.247368</td>\n",
       "      <td>0.461629</td>\n",
       "      <td>0.015252</td>\n",
       "      <td>-0.428537</td>\n",
       "      <td>-0.254926</td>\n",
       "      <td>-0.318528</td>\n",
       "      <td>-0.311321</td>\n",
       "      <td>-0.136766</td>\n",
       "      <td>-0.211340</td>\n",
       "      <td>-0.063161</td>\n",
       "      <td>-0.771281</td>\n",
       "      <td>1.148304</td>\n",
       "      <td>-0.406125</td>\n",
       "    </tr>\n",
       "    <tr>\n",
       "      <th>4</th>\n",
       "      <td>-0.699308</td>\n",
       "      <td>-0.460866</td>\n",
       "      <td>-0.402052</td>\n",
       "      <td>-0.247368</td>\n",
       "      <td>-0.543555</td>\n",
       "      <td>-0.229218</td>\n",
       "      <td>0.137519</td>\n",
       "      <td>0.295584</td>\n",
       "      <td>-0.318528</td>\n",
       "      <td>-0.311321</td>\n",
       "      <td>0.956223</td>\n",
       "      <td>-0.211340</td>\n",
       "      <td>0.354254</td>\n",
       "      <td>-0.771281</td>\n",
       "      <td>-1.202107</td>\n",
       "      <td>-0.406125</td>\n",
       "    </tr>\n",
       "  </tbody>\n",
       "</table>\n",
       "</div>"
      ],
      "text/plain": [
       "   num_pipeline__Administrative  num_pipeline__Administrative_Duration   \n",
       "0                     -0.106058                              -0.261498  \\\n",
       "1                     -0.699308                              -0.460866   \n",
       "2                      2.563569                               1.189918   \n",
       "3                     -0.699308                              -0.460866   \n",
       "4                     -0.699308                              -0.460866   \n",
       "\n",
       "   num_pipeline__Informational  num_pipeline__Informational_Duration   \n",
       "0                    -0.402052                             -0.247368  \\\n",
       "1                    -0.402052                             -0.247368   \n",
       "2                     2.880151                              0.760872   \n",
       "3                    -0.402052                             -0.247368   \n",
       "4                    -0.402052                             -0.247368   \n",
       "\n",
       "   num_pipeline__ProductRelated  num_pipeline__ProductRelated_Duration   \n",
       "0                      0.347404                               0.509942  \\\n",
       "1                     -0.018118                               0.059641   \n",
       "2                      8.343187                               6.012016   \n",
       "3                      0.461629                               0.015252   \n",
       "4                     -0.543555                              -0.229218   \n",
       "\n",
       "   num_pipeline__BounceRates  num_pipeline__ExitRates   \n",
       "0                  -0.368702                -0.668044  \\\n",
       "1                  -0.455130                -0.511432   \n",
       "2                  -0.310768                -0.680676   \n",
       "3                  -0.428537                -0.254926   \n",
       "4                   0.137519                 0.295584   \n",
       "\n",
       "   num_pipeline__PageValues  num_pipeline__SpecialDay   \n",
       "0                  0.443746                 -0.311321  \\\n",
       "1                 -0.318528                 -0.311321   \n",
       "2                  0.161616                 -0.311321   \n",
       "3                 -0.318528                 -0.311321   \n",
       "4                 -0.318528                 -0.311321   \n",
       "\n",
       "   num_pipeline__OperatingSystems  num_pipeline__Browser   \n",
       "0                       -1.229755              -0.797484  \\\n",
       "1                       -0.136766              -0.797484   \n",
       "2                       -1.229755              -0.797484   \n",
       "3                       -0.136766              -0.211340   \n",
       "4                        0.956223              -0.211340   \n",
       "\n",
       "   num_pipeline__Region  num_pipeline__TrafficType  cat_pipeline__Month   \n",
       "0             -0.480577                  -0.771281            -1.202107  \\\n",
       "1             -0.897992                  -0.521340             0.812531   \n",
       "2             -0.063161                  -0.271399             0.812531   \n",
       "3             -0.063161                  -0.771281             1.148304   \n",
       "4              0.354254                  -0.771281            -1.202107   \n",
       "\n",
       "   cat_pipeline__VisitorType  \n",
       "0                  -0.406125  \n",
       "1                  -0.406125  \n",
       "2                  -0.406125  \n",
       "3                  -0.406125  \n",
       "4                  -0.406125  "
      ]
     },
     "execution_count": 13,
     "metadata": {},
     "output_type": "execute_result"
    }
   ],
   "source": [
    "## Train test split\n",
    "\n",
    "from sklearn.model_selection import train_test_split\n",
    "\n",
    "X_train,X_test,y_train,y_test=train_test_split(X,Y,test_size=0.30,random_state=2)\n",
    "X_train=pd.DataFrame(preprocessor.fit_transform(X_train),columns=preprocessor.get_feature_names_out())\n",
    "X_test=pd.DataFrame(preprocessor.transform(X_test),columns=preprocessor.get_feature_names_out())\n",
    "X_train.head()"
   ]
  },
  {
   "cell_type": "code",
   "execution_count": 20,
   "metadata": {},
   "outputs": [
    {
     "data": {
      "text/html": [
       "<style>#sk-container-id-3 {color: black;background-color: white;}#sk-container-id-3 pre{padding: 0;}#sk-container-id-3 div.sk-toggleable {background-color: white;}#sk-container-id-3 label.sk-toggleable__label {cursor: pointer;display: block;width: 100%;margin-bottom: 0;padding: 0.3em;box-sizing: border-box;text-align: center;}#sk-container-id-3 label.sk-toggleable__label-arrow:before {content: \"▸\";float: left;margin-right: 0.25em;color: #696969;}#sk-container-id-3 label.sk-toggleable__label-arrow:hover:before {color: black;}#sk-container-id-3 div.sk-estimator:hover label.sk-toggleable__label-arrow:before {color: black;}#sk-container-id-3 div.sk-toggleable__content {max-height: 0;max-width: 0;overflow: hidden;text-align: left;background-color: #f0f8ff;}#sk-container-id-3 div.sk-toggleable__content pre {margin: 0.2em;color: black;border-radius: 0.25em;background-color: #f0f8ff;}#sk-container-id-3 input.sk-toggleable__control:checked~div.sk-toggleable__content {max-height: 200px;max-width: 100%;overflow: auto;}#sk-container-id-3 input.sk-toggleable__control:checked~label.sk-toggleable__label-arrow:before {content: \"▾\";}#sk-container-id-3 div.sk-estimator input.sk-toggleable__control:checked~label.sk-toggleable__label {background-color: #d4ebff;}#sk-container-id-3 div.sk-label input.sk-toggleable__control:checked~label.sk-toggleable__label {background-color: #d4ebff;}#sk-container-id-3 input.sk-hidden--visually {border: 0;clip: rect(1px 1px 1px 1px);clip: rect(1px, 1px, 1px, 1px);height: 1px;margin: -1px;overflow: hidden;padding: 0;position: absolute;width: 1px;}#sk-container-id-3 div.sk-estimator {font-family: monospace;background-color: #f0f8ff;border: 1px dotted black;border-radius: 0.25em;box-sizing: border-box;margin-bottom: 0.5em;}#sk-container-id-3 div.sk-estimator:hover {background-color: #d4ebff;}#sk-container-id-3 div.sk-parallel-item::after {content: \"\";width: 100%;border-bottom: 1px solid gray;flex-grow: 1;}#sk-container-id-3 div.sk-label:hover label.sk-toggleable__label {background-color: #d4ebff;}#sk-container-id-3 div.sk-serial::before {content: \"\";position: absolute;border-left: 1px solid gray;box-sizing: border-box;top: 0;bottom: 0;left: 50%;z-index: 0;}#sk-container-id-3 div.sk-serial {display: flex;flex-direction: column;align-items: center;background-color: white;padding-right: 0.2em;padding-left: 0.2em;position: relative;}#sk-container-id-3 div.sk-item {position: relative;z-index: 1;}#sk-container-id-3 div.sk-parallel {display: flex;align-items: stretch;justify-content: center;background-color: white;position: relative;}#sk-container-id-3 div.sk-item::before, #sk-container-id-3 div.sk-parallel-item::before {content: \"\";position: absolute;border-left: 1px solid gray;box-sizing: border-box;top: 0;bottom: 0;left: 50%;z-index: -1;}#sk-container-id-3 div.sk-parallel-item {display: flex;flex-direction: column;z-index: 1;position: relative;background-color: white;}#sk-container-id-3 div.sk-parallel-item:first-child::after {align-self: flex-end;width: 50%;}#sk-container-id-3 div.sk-parallel-item:last-child::after {align-self: flex-start;width: 50%;}#sk-container-id-3 div.sk-parallel-item:only-child::after {width: 0;}#sk-container-id-3 div.sk-dashed-wrapped {border: 1px dashed gray;margin: 0 0.4em 0.5em 0.4em;box-sizing: border-box;padding-bottom: 0.4em;background-color: white;}#sk-container-id-3 div.sk-label label {font-family: monospace;font-weight: bold;display: inline-block;line-height: 1.2em;}#sk-container-id-3 div.sk-label-container {text-align: center;}#sk-container-id-3 div.sk-container {/* jupyter's `normalize.less` sets `[hidden] { display: none; }` but bootstrap.min.css set `[hidden] { display: none !important; }` so we also need the `!important` here to be able to override the default hidden behavior on the sphinx rendered scikit-learn.org. See: https://github.com/scikit-learn/scikit-learn/issues/21755 */display: inline-block !important;position: relative;}#sk-container-id-3 div.sk-text-repr-fallback {display: none;}</style><div id=\"sk-container-id-3\" class=\"sk-top-container\"><div class=\"sk-text-repr-fallback\"><pre>RandomForestClassifier()</pre><b>In a Jupyter environment, please rerun this cell to show the HTML representation or trust the notebook. <br />On GitHub, the HTML representation is unable to render, please try loading this page with nbviewer.org.</b></div><div class=\"sk-container\" hidden><div class=\"sk-item\"><div class=\"sk-estimator sk-toggleable\"><input class=\"sk-toggleable__control sk-hidden--visually\" id=\"sk-estimator-id-3\" type=\"checkbox\" checked><label for=\"sk-estimator-id-3\" class=\"sk-toggleable__label sk-toggleable__label-arrow\">RandomForestClassifier</label><div class=\"sk-toggleable__content\"><pre>RandomForestClassifier()</pre></div></div></div></div></div>"
      ],
      "text/plain": [
       "RandomForestClassifier()"
      ]
     },
     "execution_count": 20,
     "metadata": {},
     "output_type": "execute_result"
    }
   ],
   "source": [
    "# RandomForest\n",
    "from sklearn.ensemble import RandomForestClassifier\n",
    "Randomforest = RandomForestClassifier()\n",
    "Randomforest.fit(X_train,y_train)"
   ]
  },
  {
   "cell_type": "code",
   "execution_count": 21,
   "metadata": {},
   "outputs": [
    {
     "data": {
      "text/plain": [
       "0.9982620785540494"
      ]
     },
     "execution_count": 21,
     "metadata": {},
     "output_type": "execute_result"
    }
   ],
   "source": [
    "Randomforest.score(X_train,y_train)"
   ]
  },
  {
   "cell_type": "code",
   "execution_count": 41,
   "metadata": {},
   "outputs": [],
   "source": [
    "from sklearn.metrics import accuracy_score,confusion_matrix"
   ]
  },
  {
   "cell_type": "code",
   "execution_count": 45,
   "metadata": {},
   "outputs": [],
   "source": [
    "y_pred = Randomforest.predict(X_test)"
   ]
  },
  {
   "cell_type": "code",
   "execution_count": 43,
   "metadata": {},
   "outputs": [
    {
     "data": {
      "text/plain": [
       "0.706947823736145"
      ]
     },
     "execution_count": 43,
     "metadata": {},
     "output_type": "execute_result"
    }
   ],
   "source": [
    "accuracy_score(y_test, y_pred)"
   ]
  },
  {
   "cell_type": "code",
   "execution_count": null,
   "metadata": {},
   "outputs": [],
   "source": []
  }
 ],
 "metadata": {
  "kernelspec": {
   "display_name": "Python 3",
   "language": "python",
   "name": "python3"
  },
  "language_info": {
   "codemirror_mode": {
    "name": "ipython",
    "version": 3
   },
   "file_extension": ".py",
   "mimetype": "text/x-python",
   "name": "python",
   "nbconvert_exporter": "python",
   "pygments_lexer": "ipython3",
   "version": "3.11.2"
  },
  "orig_nbformat": 4
 },
 "nbformat": 4,
 "nbformat_minor": 2
}
