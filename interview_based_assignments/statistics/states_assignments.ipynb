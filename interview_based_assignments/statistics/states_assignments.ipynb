{
 "cells": [
  {
   "attachments": {},
   "cell_type": "markdown",
   "metadata": {},
   "source": [
    "Q-1. A university wants to understand the relationship between the SAT scores of its\n",
    "applicants and their college GPA. They collect data on 500 students, including their SAT\n",
    "scores (out of 1600) and their college GPA (on a 4.0 scale). They find that the correlation\n",
    "coefficient between SAT scores and college GPA is 0.7. What does this correlation\n",
    "coefficient indicate about the relationship between SAT scores and college GPA?"
   ]
  },
  {
   "attachments": {},
   "cell_type": "markdown",
   "metadata": {},
   "source": [
    "Ans:\n",
    "    A correlation coefficient means showing relationship between two features. The correlation coefficient ranges from -1 to 1, where 1 represents a perfect positive relationship, 0 represents no relationship, and -1 represents a perfect negative relationship. In this case, the correlation coefficient of 0.7 suggests a strong positive relation, indicating that higher SAT scores are generally associated with higher college GPAs.\n",
    "\n",
    "It's important to note that correlation does not imply causation. While the correlation coefficient indicates a relationship between SAT scores and college GPA, it does not establish a cause-and-effect relationship. Other factors, such as study habits, motivation, and personal circumstances, can also influence college GPA and should be considered when interpreting the results."
   ]
  },
  {
   "attachments": {},
   "cell_type": "markdown",
   "metadata": {},
   "source": [
    "Q-2. Consider a dataset containing the heights (in centimeters) of 1000 individuals. The\n",
    "mean height is 170 cm with a standard deviation of 10 cm. The dataset is approximately\n",
    "normally distributed, and its skewness is approximately zero. Based on this information,\n",
    "answer the following questions:\n",
    "a. What percentage of individuals in the dataset have heights between 160 cm\n",
    "and 180 cm?\n",
    "b. If we randomly select 100 individuals from the dataset, what is the probability\n",
    "that their average height is greater than 175 cm?\n",
    "c. Assuming the dataset follows a normal distribution, what is the z-score\n",
    "corresponding to a height of 185 cm?\n",
    "d. We know that 5% of the dataset has heights below a certain value. What is\n",
    "the approximate height corresponding to this threshold?\n",
    "e. Calculate the coefficient of variation (CV) for the dataset.\n",
    "f. Calculate the skewness of the dataset and interpret the result."
   ]
  },
  {
   "attachments": {},
   "cell_type": "markdown",
   "metadata": {},
   "source": [
    "Ans: a. The dataset is an example of the normal distribution. \n",
    "\n",
    "The mean height is 170 cm and the standard deviation is 10 cm, we can calculate the z-scores for both heights:\n",
    "  z = (x - μ) / σ\n",
    "  where x is the height, μ is the mean, and σ is the standard deviation.\n",
    "\n",
    "For 160 cm:\n",
    "z1 = (160 - 170) / 10 = -10/10 = -1 \n",
    "\n",
    "For 180 cm:\n",
    "z2 = (180 - 170) / 10 = 10/10 = 1\n",
    "\n",
    "Now, we need to find the percentage of individuals within the range of -1 to 1 standard deviations from the mean. We can use a standard normal distribution table or a statistical software to find this percentage.\n",
    "\n",
    "The area under the standard normal curve between -1 and 1 standard deviations is approximately 0.6827 or 68.27%. So, approximately 68.27% of individuals in the dataset have heights between 160 cm and 180 cm."
   ]
  },
  {
   "attachments": {},
   "cell_type": "markdown",
   "metadata": {},
   "source": [
    "b. To calculate the probability that the average height of a randomly selected group of 100 individuals is greater than 175 cm, we can use the Central Limit Theorem. The Central Limit Theorem states that the distribution of sample means approaches a normal distribution with a mean equal to the population mean and a standard deviation equal to the population standard deviation divided by the square root of the sample size.\n",
    "\n",
    "Ansb: First we calculate the standard deviation of sample distribution:\n",
    "\n",
    "σ / √n\n",
    "\n",
    "where:\n",
    "σ = population standard deviation (10 cm)\n",
    "n = sample size (100 individuals)\n",
    "\n",
    "10/square(100) = 10/10 = 1\n",
    "\n",
    "Next, we need to calculate the z-score for the sample mean of 175 cm using the formula:\n",
    "\n",
    " z = (x - μ) / σ\n",
    "  where x is the height, μ is the mean, and σ is the standard deviation of sample.\n",
    "\n",
    "z = (175 - 170) / 1 = 5/1 = 5\n",
    "\n",
    "Now, we can use a standard normal distribution table to find the probability associated with the z-score of 5. Since we're interested in the probability of the average height being greater than 175 cm, we need to find the area to the right of the z-score.\n",
    "\n",
    "The probability of the average height being greater than 175 cm can be found by subtracting the cumulative probability up to the z-score from 1:\n",
    "\n",
    "P(X > 175) = 1 - P(X ≤ 175)\n",
    "\n",
    "Using a standard normal distribution table, we find that the cumulative probability associated with a z-score of 5 is very close to 1. Therefore:\n",
    "\n",
    "P(X > 175) ≈ 1 - 1 = 0\n",
    "\n",
    "So, the probability that the average height of a random sample of 100 individuals from the dataset is greater than 175 cm is approximately 0."
   ]
  },
  {
   "attachments": {},
   "cell_type": "markdown",
   "metadata": {},
   "source": [
    "Ansc: The z-score corresponding to a height of 185 cm is:\n",
    "\n",
    "z = (185 - 170)/10 = 15/10 = 1.5\n",
    "\n",
    "Therefore, the z-score corresponding to a height of 185 cm is 1.5."
   ]
  },
  {
   "attachments": {},
   "cell_type": "markdown",
   "metadata": {},
   "source": [
    "Ansd d: To find the approximate height corresponding to the threshold where 5% of the dataset has heights below that value, we need to find the z-score that corresponds to the 5th percentile.\n",
    "Using a standard normal distribution table or a statistical software, we can find the z-score corresponding to the 5th percentile. The z-score that corresponds to the 5th percentile is approximately -1.645.\n",
    "\n",
    "Now, we can convert the z-score back to the original height scale using the formula:\n",
    "\n",
    "x = z * σ + μ\n",
    "\n",
    "where:\n",
    "x = height corresponding to the threshold\n",
    "z = z-score corresponding to the 5th percentile (-1.645)\n",
    "σ = standard deviation (10 cm)\n",
    "μ = mean height (170 cm)\n",
    "\n",
    "x = -1.645 * 10 + 170\n",
    "\n",
    "x = -16.45 + 170\n",
    "\n",
    "x = 153.55\n",
    "\n",
    "Therefore, the approximate height corresponding to the threshold where 5% of the dataset has heights below that value is approximately 153.55 cm"
   ]
  },
  {
   "cell_type": "code",
   "execution_count": 1,
   "metadata": {},
   "outputs": [
    {
     "name": "stdout",
     "output_type": "stream",
     "text": [
      "Percentage of individuals in the dataset have heights between 160 cm and 180 cm: 68.27%\n",
      "Probability that the average height of 100 individuals is greater than 175 cm: 0.00\n",
      "Z-score corresponding to a height of 185 cm: 1.50\n",
      "Approximate height corresponding to the 5th percentile: 153.55\n",
      "Coefficient of variation (CV) for the dataset: 5.88%\n",
      "Skewness of the dataset: 0\n"
     ]
    }
   ],
   "source": [
    "import scipy.stats as stats\n",
    "\n",
    "# Values given\n",
    "mean_height = 170\n",
    "std_dev = 10\n",
    "\n",
    "# a. percentage of individuals in the dataset have heights between 160 cm and 180 cm\n",
    "z1 = (160 - mean_height) / std_dev   #calculte z score\n",
    "z2 = (180 - mean_height) / std_dev\n",
    "percentage_between = stats.norm.cdf(z2) - stats.norm.cdf(z1)\n",
    "percentage_between = percentage_between * 100\n",
    "\n",
    "print(f\"Percentage of individuals in the dataset have heights between 160 cm and 180 cm: {percentage_between:.2f}%\")\n",
    "\n",
    "# b. Probability that the average height of 100 individuals is greater than 175 cm\n",
    "sample_size = 100\n",
    "sample_mean_std_dev = std_dev / (sample_size ** 0.5)\n",
    "z_score = (175 - mean_height) / sample_mean_std_dev\n",
    "prob_greater = 1 - stats.norm.cdf(z_score)\n",
    "\n",
    "print(f\"Probability that the average height of 100 individuals is greater than 175 cm: {prob_greater:.2f}\")\n",
    "\n",
    "# c. Z-score corresponding to a height of 185 cm\n",
    "height = 185\n",
    "z_score = (height - mean_height) / std_dev\n",
    "\n",
    "print(f\"Z-score corresponding to a height of 185 cm: {z_score:.2f}\")\n",
    "\n",
    "# d. Approximate height corresponding to the threshold where 5% of the dataset has heights below that value\n",
    "percentile = 0.05\n",
    "threshold = stats.norm.ppf(percentile, mean_height, std_dev)\n",
    "\n",
    "print(f\"Approximate height corresponding to the 5th percentile: {threshold:.2f}\")\n",
    "\n",
    "# e. Coefficient of variation (CV) for the dataset\n",
    "cv = (std_dev / mean_height) * 100\n",
    "\n",
    "print(f\"Coefficient of variation (CV) for the dataset: {cv:.2f}%\")\n",
    "\n",
    "# f. Skewness of the dataset\n",
    "skewness = 0  # Given that the skewness is approximately zero for the dataset\n",
    "\n",
    "print(f\"Skewness of the dataset: {skewness}\")\n"
   ]
  },
  {
   "attachments": {},
   "cell_type": "markdown",
   "metadata": {},
   "source": [
    "Que3: Consider the ‘Blood Pressure Before’ and ‘Blood Pressure After’ columns from the data and calculate the following\n",
    "https://drive.google.com/file/d/1mCjtYHiX--mMUjicuaP2gH3k-SnFxt8Y/view?usp=share_\n",
    "a. Measure the dispersion in both and interpret the results.\n",
    "b. Calculate mean and 5% confidence interval and plot it in a graph\n",
    "c. Calculate the Mean absolute deviation and Standard deviation and interpret the results.\n",
    "d. Calculate the correlation coefficient and check the significance of it at 1% level of significance."
   ]
  },
  {
   "cell_type": "code",
   "execution_count": 2,
   "metadata": {},
   "outputs": [
    {
     "name": "stdout",
     "output_type": "stream",
     "text": [
      "variance =  Blood Pressure Before (mmHg)    43.1019\n",
      " Blood Pressure After (mmHg)     46.9704\n",
      "dtype: float64\n",
      "----------------------------------------\n",
      "std_deviation =  Blood Pressure Before (mmHg)    6.565204\n",
      " Blood Pressure After (mmHg)     6.853495\n",
      "dtype: float64\n"
     ]
    },
    {
     "name": "stderr",
     "output_type": "stream",
     "text": [
      "c:\\Users\\mohdalwaz\\anaconda3\\lib\\site-packages\\numpy\\core\\fromnumeric.py:3430: FutureWarning: In a future version, DataFrame.mean(axis=None) will return a scalar mean over the entire DataFrame. To retain the old behavior, use 'frame.mean(axis=0)' or just 'frame.mean()'\n",
      "  return mean(axis=axis, dtype=dtype, out=out, **kwargs)\n",
      "c:\\Users\\mohdalwaz\\anaconda3\\lib\\site-packages\\numpy\\core\\fromnumeric.py:3430: FutureWarning: In a future version, DataFrame.mean(axis=None) will return a scalar mean over the entire DataFrame. To retain the old behavior, use 'frame.mean(axis=0)' or just 'frame.mean()'\n",
      "  return mean(axis=axis, dtype=dtype, out=out, **kwargs)\n"
     ]
    },
    {
     "data": {
      "image/png": "[encoded data removed]",
      "text/plain": [
       "<Figure size 800x600 with 1 Axes>"
      ]
     },
     "metadata": {},
     "output_type": "display_data"
    },
    {
     "name": "stdout",
     "output_type": "stream",
     "text": [
      "Mean data: 170.00\n",
      "Confidence Interval (95%): (array([132.60075849, 126.99326698]), array([135.21924151, 129.72673302]))\n",
      "Mean absolute deviation:  Blood Pressure Before (mmHg)    5.7118\n",
      " Blood Pressure After (mmHg)     5.9000\n",
      "dtype: float64\n",
      "----------------------------------------\n",
      "Standard deviation:\n",
      " Blood Pressure Before (mmHg)    6.565204\n",
      " Blood Pressure After (mmHg)     6.853495\n",
      "dtype: float64\n",
      "Correlation Coefficient: 0.98\n",
      "p-value: 0.0000\n",
      "The correlation coefficient is statistically significant at the 1% level of significance.\n"
     ]
    },
    {
     "name": "stderr",
     "output_type": "stream",
     "text": [
      "c:\\Users\\mohdalwaz\\anaconda3\\lib\\site-packages\\numpy\\core\\fromnumeric.py:3430: FutureWarning: In a future version, DataFrame.mean(axis=None) will return a scalar mean over the entire DataFrame. To retain the old behavior, use 'frame.mean(axis=0)' or just 'frame.mean()'\n",
      "  return mean(axis=axis, dtype=dtype, out=out, **kwargs)\n",
      "c:\\Users\\mohdalwaz\\anaconda3\\lib\\site-packages\\numpy\\core\\fromnumeric.py:3430: FutureWarning: In a future version, DataFrame.mean(axis=None) will return a scalar mean over the entire DataFrame. To retain the old behavior, use 'frame.mean(axis=0)' or just 'frame.mean()'\n",
      "  return mean(axis=axis, dtype=dtype, out=out, **kwargs)\n"
     ]
    }
   ],
   "source": [
    "import pandas as pd\n",
    "import matplotlib.pyplot as plt\n",
    "\n",
    "df = pd.read_csv(\"data\\BP_data.csv\")\n",
    "\n",
    "df = df.drop(\"Patient ID\",axis=1)\n",
    "# a.Measure the dispersion in both and interpret the results.\n",
    "\n",
    "import numpy as np       # Calculate variance and standard deviation\n",
    "\n",
    "#variance\n",
    "variance = np.var(df)\n",
    "std_deviation = np.std(df)\n",
    "print(f\"variance = {variance}\")\n",
    "print(\"-\"*40)\n",
    "print(f\"std_deviation = {std_deviation}\")\n",
    "\n",
    "#b. Calculate mean and 5% confidence interval and plot it in a graph\n",
    "\n",
    "mean = np.mean(df)\n",
    "\n",
    "# Calculate 5% confidence interval\n",
    "confidence_interval = stats.t.interval(0.95, len(df) - 1, loc=np.mean(df), scale=stats.sem(df))\n",
    "\n",
    "# Plotting the mean and confidence interval\n",
    "plt.figure(figsize=(8, 6))\n",
    "plt.hist(df, bins=30, alpha=0.5)\n",
    "plt.xlabel('Height (cm)')\n",
    "plt.ylabel('Frequency')\n",
    "plt.title('Distribution with Mean and 95% Confidence Interval')\n",
    "plt.show()\n",
    "\n",
    "print(f\"Mean data: {mean_height:.2f}\")\n",
    "print(f\"Confidence Interval (95%): {confidence_interval}\")\n",
    "\n",
    "#c. Calculate the Mean absolute deviation and Standard deviation and interpretthe results\n",
    "\n",
    "c= np.mean(np.abs(df-np.mean(df)))\n",
    "sd = np.std(df)\n",
    "print(f\"Mean absolute deviation: {c}\")\n",
    "print(\"-\"*40)\n",
    "print(\"Standard deviation:\")\n",
    "print(sd)\n",
    "\n",
    "import scipy.stats as stats\n",
    "\n",
    "#d. Calculate the correlation coefficient and check the significance of it at 1% level of significance.\n",
    "# Given datasets\n",
    "x = df[\" Blood Pressure Before (mmHg)\"]  \n",
    "y = df[\" Blood Pressure After (mmHg)\"]\n",
    "\n",
    "# Calculate correlation coefficient\n",
    "corr_coef, p_value = stats.pearsonr(x, y)\n",
    "\n",
    "print(f\"Correlation Coefficient: {corr_coef:.2f}\")\n",
    "print(f\"p-value: {p_value:.4f}\")\n",
    "\n",
    "# Check significance at 1% level of significance\n",
    "if p_value < 0.01:\n",
    "    print(\"The correlation coefficient is statistically significant at the 1% level of significance.\")\n",
    "else:\n",
    "    print(\"The correlation coefficient is not statistically significant at the 1% level of significance.\")"
   ]
  },
  {
   "cell_type": "code",
   "execution_count": 3,
   "metadata": {},
   "outputs": [
    {
     "name": "stdout",
     "output_type": "stream",
     "text": [
      "The probability of drawing a perfect square number is: 0.2\n"
     ]
    }
   ],
   "source": [
    "#Q-4. A group of 20 friends decide to play a game in which they each write a number between 1 and 20 on a slip of paper and put it into a hat. They then draw one slip of paper at random. What is the probability that the number on the slip of paper is a perfect square\n",
    "#(i.e., 1, 4, 9, or 16)\n",
    "\n",
    "# Number of favorable outcomes (perfect squares)\n",
    "favorable_outcomes = 4\n",
    "\n",
    "# Total number of possible outcomes\n",
    "total_outcomes = 20\n",
    "\n",
    "# Calculate the probability\n",
    "probability = favorable_outcomes / total_outcomes\n",
    "\n",
    "# Display the result\n",
    "\n",
    "print(f\"The probability of drawing a perfect square number is: {probability}\")"
   ]
  },
  {
   "cell_type": "code",
   "execution_count": 4,
   "metadata": {},
   "outputs": [
    {
     "name": "stdout",
     "output_type": "stream",
     "text": [
      "The probability that a randomly selected late taxi belongs to Company A is: 0.67\n"
     ]
    }
   ],
   "source": [
    "#Q-5. A certain city has two taxi companies: Company A has 80% of the taxis and Company B has 20% of the taxis. Company A's taxis have a 95% success rate for picking\n",
    "#up passengers on time, while Company B's taxis have a 90% success rate. If a randomly selected taxi is late, what is the probability that it belongs to Company A?\n",
    "\n",
    "# Given probabilities\n",
    "Prob_A = 0.8\n",
    "P_B_given_A = 0.05 #\n",
    "P_B_given_not_A = 0.1\n",
    "\n",
    "# Calculate P(not A)\n",
    "P_not_A = 1 - Prob_A\n",
    "\n",
    "# Calculate P(B)\n",
    "P_B = P_B_given_A * Prob_A + P_B_given_not_A * P_not_A\n",
    "\n",
    "# Calculate P(A|B) using Bayes' theorem\n",
    "P_A_given_B = (P_B_given_A * Prob_A) / P_B\n",
    "\n",
    "# Display the result\n",
    "print(f\"The probability that a randomly selected late taxi belongs to Company A is: {P_A_given_B:.2f}\")"
   ]
  },
  {
   "cell_type": "code",
   "execution_count": 5,
   "metadata": {},
   "outputs": [
    {
     "name": "stdout",
     "output_type": "stream",
     "text": [
      "Shapiro-Wilk Test - p-value: 0.0004\n",
      "The blood pressure changes do not follow a normal distribution.\n"
     ]
    }
   ],
   "source": [
    "#Q-6. A pharmaceutical company is developing a drug that is supposed to reduce blood pressure. They conduct a clinical trial with 100 patients and record their blood\n",
    "#pressure before and after taking the drug. The company wants to know if the change in blood pressure follows a normal distribution. \n",
    "#https://drive.google.com/file/d/1mCjtYHiX--mMUjicuaP2gH3k-SnFxt8Y/view?usp=share\n",
    "\n",
    "blood_pressure_changes = df\n",
    "# Perform Shapiro-Wilk test for normality\n",
    "statistic, p_value = stats.shapiro(blood_pressure_changes)\n",
    "\n",
    "alpha = 0.05  # Set the significance level\n",
    "\n",
    "print(f\"Shapiro-Wilk Test - p-value: {p_value:.4f}\")\n",
    "\n",
    "if p_value > alpha:\n",
    "    print(\"The blood pressure changes follow a normal distribution.\")\n",
    "else:\n",
    "    print(\"The blood pressure changes do not follow a normal distribution.\")"
   ]
  },
  {
   "cell_type": "code",
   "execution_count": 6,
   "metadata": {},
   "outputs": [
    {
     "name": "stdout",
     "output_type": "stream",
     "text": [
      "The therapy had a significant effect on anxiety levels.\n"
     ]
    }
   ],
   "source": [
    "#Q-8. The anxiety levels of 10 participants were measured before and after a new therapy. The scores are not normally distributed. \n",
    "#Use the Wilcoxon signed-rank test to test whether the therapy had a significant effect on anxiety levels. The data is given below: Participant\n",
    "#Before therapy After therapy Difference\n",
    "\n",
    "import scipy.stats as stats\n",
    "# List of anxiety levels before therapy\n",
    "before_therapy = [10,8,12,15,6,9,11,7,14,10] \n",
    "\n",
    "# List of anxiety levels after therapy\n",
    "after_therapy = [7,6,10,12,5,8,9,6,12,8]  \n",
    "alpha = 0.05\n",
    "statistic, p_value = stats.wilcoxon(before_therapy, after_therapy)\n",
    "\n",
    "if p_value < alpha:\n",
    "    print(\"The therapy had a significant effect on anxiety levels.\")\n",
    "else:\n",
    "    print(\"There therapy had not significant effect on anxiety levels.\")"
   ]
  },
  {
   "cell_type": "code",
   "execution_count": 7,
   "metadata": {},
   "outputs": [
    {
     "name": "stdout",
     "output_type": "stream",
     "text": [
      "P value:  0.7295954253321559\n",
      "The mean score of all the students are same\n"
     ]
    }
   ],
   "source": [
    "#Q-9. Given the score of students in multiple exams Test the hypothesis that the mean scores of all the students are the same. If not, name the\n",
    "#     student with the highest score.\n",
    "import scipy.stats as stats\n",
    "#scores of all exams\n",
    "exam_1= [85, 70, 90, 75, 95]\n",
    "exam_2 = [90,80,85, 70, 92]\n",
    "final_exam = [92, 85, 88, 75, 96]\n",
    "\n",
    "#Perform one-way ANOVA.\n",
    "F_statistic , p_value = stats.f_oneway(exam_1, exam_2, final_exam, axis=0)\n",
    "print(\"P value: \", p_value)\n",
    "alpha=0.5\n",
    "#checking the null hypothesis is rejected or not\n",
    "if p_value< alpha:\n",
    "    print(\"The mean scores of all the students are not same\")\n",
    "    #student with the highest score\n",
    "    list_score = list()\n",
    "    total_score = 0\n",
    "    for i in range(len(exam_1)):\n",
    "        total_score = exam_1[i]+exam_2[i]+final_exam[i]\n",
    "        list_score.append(total_score)\n",
    "    print(list_score)\n",
    "    print(f\" Highest score of the student is: {max(list_score)}\")\n",
    "\n",
    "else:\n",
    "    print(\"The mean score of all the students are same\")\n"
   ]
  },
  {
   "attachments": {},
   "cell_type": "markdown",
   "metadata": {},
   "source": [
    "Q-10. A factory produces light bulbs, and the probability of a bulb being defective is 0.05.\n",
    "The factory produces a large batch of 500 light bulbs.\n",
    "a. What is the probability that exactly 20 bulbs are defective?\n",
    "b. What is the probability that at least 10 bulbs are defective?\n",
    "c. What is the probability that at max 15 bulbs are defective?\n",
    "d. On average, how many defective bulbs would you expect in a batch of 500"
   ]
  },
  {
   "cell_type": "code",
   "execution_count": 8,
   "metadata": {},
   "outputs": [
    {
     "name": "stdout",
     "output_type": "stream",
     "text": [
      "The probability of exactly 20 bulbs are defective: 0.05\n",
      "The probability that at least 10 bulbs are defective: 1.00\n",
      "The probability that at most 15 bulbs are defective: 0.02\n",
      "The expected number of defective bulbs in a batch of 500 bulbs: 25.00\n"
     ]
    }
   ],
   "source": [
    "import scipy.stats as stats\n",
    "\n",
    "total_bulbs = 500\n",
    "prob_defective = 0.05\n",
    "\n",
    "# a. Probability of exactly 20 bulbs being defective\n",
    "k = 20\n",
    "prob_20_defective = stats.binom.pmf(k, total_bulbs, prob_defective)\n",
    "print(f\"The probability of exactly 20 bulbs are defective: {prob_20_defective:.2f}\")\n",
    "\n",
    "# b. Probability of at least 10 bulbs being defective\n",
    "k_min = 10\n",
    "prob_at_least_10_defective = 1 - stats.binom.cdf(k_min - 1, total_bulbs, prob_defective)\n",
    "print(f\"The probability that at least 10 bulbs are defective: {prob_at_least_10_defective:.2f}\")\n",
    "\n",
    "# c. Probability of at most 15 bulbs being defective\n",
    "k_max = 15\n",
    "prob_at_most_15_defective = stats.binom.cdf(k_max, total_bulbs, prob_defective)\n",
    "print(f\"The probability that at most 15 bulbs are defective: {prob_at_most_15_defective:.2f}\")\n",
    "\n",
    "# d. Expected number of defective bulbs in a batch of 500\n",
    "expected_defective_bulbs = total_bulbs * prob_defective\n",
    "print(f\"The expected number of defective bulbs in a batch of 500 bulbs: {expected_defective_bulbs:.2f}\")"
   ]
  },
  {
   "attachments": {},
   "cell_type": "markdown",
   "metadata": {},
   "source": [
    "Q-11. Given the data of a feature contributing to different classes\n",
    "https://drive.google.com/file/d/1mCjtYHiX--mMUjicuaP2gH3k-SnFxt8Y/view?usp=share_\n",
    "a. Check whether the distribution of all the classes are the same or not.\n",
    "b. Check for the equality of variance/\n",
    "c. Which amount LDA and QDA would perform better on this data for classification and why.\n",
    "d. Check the equality of mean for between all the classes."
   ]
  },
  {
   "cell_type": "code",
   "execution_count": 9,
   "metadata": {},
   "outputs": [
    {
     "name": "stdout",
     "output_type": "stream",
     "text": [
      "    Blood Pressure Before (mmHg)   Blood Pressure After (mmHg)\n",
      "0                            130                           120\n",
      "1                            142                           135\n",
      "2                            120                           118\n",
      "3                            135                           127\n",
      "4                            148                           140\n"
     ]
    },
    {
     "data": {
      "text/plain": [
       "Text(0.5, 1.0, 'Density plot for Blood Pressure')"
      ]
     },
     "execution_count": 9,
     "metadata": {},
     "output_type": "execute_result"
    },
    {
     "data": {
      "image/png": "[encoded data removed]",
      "text/plain": [
       "<Figure size 640x480 with 1 Axes>"
      ]
     },
     "metadata": {},
     "output_type": "display_data"
    }
   ],
   "source": [
    "import pandas as pd\n",
    "import seaborn as sns\n",
    "from matplotlib import pyplot as plt\n",
    "df = pd.read_csv(\"data\\BP_data.csv\")\n",
    "df =df.drop(\"Patient ID\",axis =1)\n",
    "print(df.head())\n",
    "df.plot.density()\n",
    "plt.title('Density plot for Blood Pressure')"
   ]
  },
  {
   "attachments": {},
   "cell_type": "markdown",
   "metadata": {},
   "source": [
    "Distribution for all the classes are not same."
   ]
  },
  {
   "cell_type": "code",
   "execution_count": 21,
   "metadata": {},
   "outputs": [
    {
     "data": {
      "text/plain": [
       "LeveneResult(statistic=0.18038002140150966, pvalue=0.6715080090945376)"
      ]
     },
     "execution_count": 21,
     "metadata": {},
     "output_type": "execute_result"
    }
   ],
   "source": [
    "stats.levene(df[' Blood Pressure Before (mmHg)'], df[' Blood Pressure After (mmHg)'],center='median', proportiontocut=0.05)"
   ]
  },
  {
   "cell_type": "code",
   "execution_count": 22,
   "metadata": {},
   "outputs": [
    {
     "data": {
      "text/plain": [
       "LeveneResult(statistic=0.1548970936139198, pvalue=0.6943222481999669)"
      ]
     },
     "execution_count": 22,
     "metadata": {},
     "output_type": "execute_result"
    }
   ],
   "source": [
    "stats.levene(df[' Blood Pressure Before (mmHg)'], df[' Blood Pressure After (mmHg)'],center='mean', proportiontocut=0.05)"
   ]
  },
  {
   "attachments": {},
   "cell_type": "markdown",
   "metadata": {},
   "source": [
    "Since the p-value is not less than 0.05, doesn’t have sufficient evidence to say that the groups have different variances."
   ]
  },
  {
   "cell_type": "code",
   "execution_count": 23,
   "metadata": {},
   "outputs": [
    {
     "name": "stdout",
     "output_type": "stream",
     "text": [
      "F_statistic:  33.85555270599285\n",
      "P_value:  2.3565868442707578e-08\n"
     ]
    }
   ],
   "source": [
    "#Perform one-way ANOVA.\n",
    "F_statistic , p_value = stats.f_oneway(df[' Blood Pressure Before (mmHg)'], df[' Blood Pressure After (mmHg)'], axis=0)\n",
    "print(\"F_statistic: \",F_statistic)\n",
    "print(\"P_value: \",p_value)"
   ]
  },
  {
   "attachments": {},
   "cell_type": "markdown",
   "metadata": {},
   "source": [
    "Since this p-value is not less than 0.05, we fail to reject the null hypothesis. This means we don’t have sufficient evidence to say that there is a statistically significant difference between the mean of given groups."
   ]
  },
  {
   "attachments": {},
   "cell_type": "markdown",
   "metadata": {},
   "source": [
    "Q-12. A pharmaceutical company develops a new drug and wants to compare its\n",
    "effectiveness against a standard drug for treating a particular condition. They conduct a\n",
    "study with two groups: Group A receives the new drug, and Group B receives the standard\n",
    "drug. The company measures the improvement in a specific symptom for both groups after\n",
    "a 4-week treatment period.\n",
    "a. The company collects data from 30 patients in each group and calculates the\n",
    "mean improvement score and the standard deviation of improvement for each\n",
    "group. The mean improvement score for Group A is 2.5 with a standard\n",
    "deviation of 0.8, while the mean improvement score for Group B is 2.2 with a\n",
    "standard deviation of 0.6. Conduct a t-test to determine if there is a significant\n",
    "difference in the mean improvement scores between the two groups. Use a\n",
    "significance level of 0.05.\n",
    "b. Based on the t-test results, state whether the null hypothesis should be\n",
    "rejected or not. Provide a conclusion in the context of the study."
   ]
  },
  {
   "cell_type": "code",
   "execution_count": null,
   "metadata": {},
   "outputs": [
    {
     "name": "stdout",
     "output_type": "stream",
     "text": [
      "Fail to reject the null hypothesis.\n",
      "There is no significant difference in the mean improvement scores between Group A and Group B.\n"
     ]
    }
   ],
   "source": [
    "# Define the sample statistics for Group A\n",
    "mean_a = 2.5\n",
    "std_a = 0.8\n",
    "n_a = 30\n",
    "\n",
    "# Define the sample statistics for Group B\n",
    "mean_b = 2.2\n",
    "std_b = 0.6\n",
    "n_b = 30\n",
    "\n",
    "# Calculate the t-statistic and p-value for the two-sample independent t-test\n",
    "t_statistic, p_value = stats.ttest_ind_from_stats(mean_a, std_a, n_a, mean_b, std_b, n_b)\n",
    "\n",
    "# Compare the p-value to the significance level\n",
    "alpha = 0.05\n",
    "\n",
    "if p_value < alpha:\n",
    "    print(\"Reject the null hypothesis.\")\n",
    "    print(\"There is a significant difference in the mean improvement scores between Group A and Group B.\")\n",
    "else:\n",
    "    print(\"Fail to reject the null hypothesis.\")\n",
    "    print(\"There is no significant difference in the mean improvement scores between Group A and Group B.\")"
   ]
  },
  {
   "cell_type": "code",
   "execution_count": null,
   "metadata": {},
   "outputs": [],
   "source": []
  }
 ],
 "metadata": {
  "kernelspec": {
   "display_name": "Python 3",
   "language": "python",
   "name": "python3"
  },
  "language_info": {
   "codemirror_mode": {
    "name": "ipython",
    "version": 3
   },
   "file_extension": ".py",
   "mimetype": "text/x-python",
   "name": "python",
   "nbconvert_exporter": "python",
   "pygments_lexer": "ipython3",
   "version": "3.10.9"
  },
  "orig_nbformat": 4
 },
 "nbformat": 4,
 "nbformat_minor": 2
}
